{
 "cells": [
  {
   "cell_type": "markdown",
   "metadata": {},
   "source": [
    "# Pour anaconda sous windows il faut installer:\n",
    "- conda install -c conda-forge rise\n",
    "- conda install m2w64-toolchain libpython\n",
    "- conda install -c conda-forge fortran-magic\n",
    "- conda install line_profiler\n",
    "- conda install numba"
   ]
  },
  {
   "cell_type": "code",
   "execution_count": 1,
   "metadata": {},
   "outputs": [
    {
     "data": {
      "application/javascript": [
       "new Promise(function(resolve, reject) {\n",
       "\tvar script = document.createElement(\"script\");\n",
       "\tscript.onload = resolve;\n",
       "\tscript.onerror = reject;\n",
       "\tscript.src = \"https://raw.github.com/marijnh/CodeMirror/master/mode/fortran/fortran.js\";\n",
       "\tdocument.head.appendChild(script);\n",
       "}).then(() => {\n",
       "IPython.config.cell_magic_highlight['magic_fortran'] = {'reg':[/^%%fortran/]};\n",
       "});"
      ]
     },
     "metadata": {},
     "output_type": "display_data"
    }
   ],
   "source": [
    "%load_ext fortranmagic\n",
    "\n",
    "from IPython.core.display import HTML\n",
    "    \n",
    "import numpy as np\n",
    "import matplotlib.pyplot as plt\n",
    "plt.style.use('classic')\n",
    "%matplotlib inline"
   ]
  },
  {
   "cell_type": "markdown",
   "metadata": {
    "slideshow": {
     "slide_type": "slide"
    }
   },
   "source": [
    "# Fast Numerical computation in python"
   ]
  },
  {
   "cell_type": "markdown",
   "metadata": {},
   "source": [
    "I'm a heavy user of python. It's my favorite programming language for everyday tasks.\n",
    "During my PhD i had to speand a lot of time optimising my simulation codes, and i wanted to share some skills.\n",
    "The reason is that i can see a lot of pepole trying to do heavy task on python the wrong way. \n",
    "When your prototyping or scripting some non-intensive task, the way your coding does not have a lot of significance.\n",
    "But when it comes to heavy numerical computation or dealing with small CPU resources with python, your coding style becomes one of the key features, just behind your algorithm."
   ]
  },
  {
   "cell_type": "markdown",
   "metadata": {
    "slideshow": {
     "slide_type": "subslide"
    }
   },
   "source": [
    "1. Advantages and constraints of python* "
   ]
  },
  {
   "cell_type": "markdown",
   "metadata": {
    "slideshow": {
     "slide_type": "fragment"
    }
   },
   "source": [
    "2. Only optimize the piece of code that need to be with line profiling"
   ]
  },
  {
   "cell_type": "markdown",
   "metadata": {
    "slideshow": {
     "slide_type": "fragment"
    }
   },
   "source": [
    "3. Numpy vectorisation*\n"
   ]
  },
  {
   "cell_type": "markdown",
   "metadata": {
    "slideshow": {
     "slide_type": "fragment"
    }
   },
   "source": [
    "4. Compile your loops JIT with numba\n"
   ]
  },
  {
   "cell_type": "markdown",
   "metadata": {
    "slideshow": {
     "slide_type": "fragment"
    }
   },
   "source": [
    "5. Developpe and optimize a taylored algorithm\n"
   ]
  },
  {
   "cell_type": "markdown",
   "metadata": {
    "slideshow": {
     "slide_type": "fragment"
    }
   },
   "source": [
    "*from Losing your Loops Fast Numerical Computing with NumPy (Jake VanderPlas)"
   ]
  },
  {
   "cell_type": "markdown",
   "metadata": {
    "slideshow": {
     "slide_type": "slide"
    }
   },
   "source": [
    "# Advantages and constraints of python"
   ]
  },
  {
   "cell_type": "markdown",
   "metadata": {
    "slideshow": {
     "slide_type": "subslide"
    }
   },
   "source": [
    "<h1 style=\"color:#CCFFCC;\">Python is FAST for</h1>"
   ]
  },
  {
   "cell_type": "markdown",
   "metadata": {
    "slideshow": {
     "slide_type": "-"
    }
   },
   "source": [
    "<div class=\"alert alert-block alert-success\">\n",
    "    \n",
    "- Writing\n",
    "- Testing\n",
    "- Developping code\n",
    "</div>\n"
   ]
  },
  {
   "cell_type": "code",
   "execution_count": 2,
   "metadata": {
    "slideshow": {
     "slide_type": "fragment"
    }
   },
   "outputs": [
    {
     "name": "stdout",
     "output_type": "stream",
     "text": [
      "Hello word\n"
     ]
    }
   ],
   "source": [
    "print(\"Hello word\")"
   ]
  },
  {
   "cell_type": "markdown",
   "metadata": {
    "slideshow": {
     "slide_type": "subslide"
    }
   },
   "source": [
    "<h1 style=\"color:#CCFFCC;\">Python in FAST because:</h1>"
   ]
  },
  {
   "cell_type": "markdown",
   "metadata": {
    "slideshow": {
     "slide_type": "-"
    }
   },
   "source": [
    "<div class=\"alert alert-block alert-success\">\n",
    "\n",
    "- Interpreted\n",
    "- Dynamically typed\n",
    "- High level\n",
    "\n",
    "</div>\n"
   ]
  },
  {
   "cell_type": "markdown",
   "metadata": {
    "slideshow": {
     "slide_type": "subslide"
    }
   },
   "source": [
    "<h1 style=\"color:#ffcccc;\">Python is SLOW for:</h1>"
   ]
  },
  {
   "cell_type": "markdown",
   "metadata": {
    "slideshow": {
     "slide_type": "-"
    }
   },
   "source": [
    "<div class=\"alert alert-block alert-danger\">\n",
    "    \n",
    "- Repetition of low level task\n",
    "</div>\n"
   ]
  },
  {
   "cell_type": "markdown",
   "metadata": {
    "slideshow": {
     "slide_type": "slide"
    }
   },
   "source": [
    "# Low level task in Python"
   ]
  },
  {
   "cell_type": "code",
   "execution_count": 3,
   "metadata": {
    "slideshow": {
     "slide_type": "-"
    }
   },
   "outputs": [],
   "source": [
    "def func_python(N):\n",
    "    d = 0.0\n",
    "    for i in range(N):\n",
    "        d += (i % 3 - 1) * i\n",
    "    return d"
   ]
  },
  {
   "cell_type": "code",
   "execution_count": 4,
   "metadata": {
    "slideshow": {
     "slide_type": "fragment"
    }
   },
   "outputs": [
    {
     "name": "stdout",
     "output_type": "stream",
     "text": [
      "1.06 ms ± 32.9 µs per loop (mean ± std. dev. of 7 runs, 1000 loops each)\n"
     ]
    }
   ],
   "source": [
    "time_python = %timeit -o func_python(10000)"
   ]
  },
  {
   "cell_type": "markdown",
   "metadata": {
    "slideshow": {
     "slide_type": "subslide"
    }
   },
   "source": [
    "   # Low level task in Fortran"
   ]
  },
  {
   "cell_type": "code",
   "execution_count": 5,
   "metadata": {
    "slideshow": {
     "slide_type": "-"
    }
   },
   "outputs": [],
   "source": [
    "%%fortran\n",
    "subroutine func_for(n, d)\n",
    "    integer, intent(in) :: n\n",
    "    double precision, intent(out) :: d\n",
    "    integer :: i\n",
    "    d = 0\n",
    "    do i = 0, n - 1\n",
    "        d = d + (mod(i, 3) - 1) * i\n",
    "    end do\n",
    "end subroutine func_for"
   ]
  },
  {
   "cell_type": "code",
   "execution_count": 6,
   "metadata": {
    "slideshow": {
     "slide_type": "fragment"
    }
   },
   "outputs": [
    {
     "name": "stdout",
     "output_type": "stream",
     "text": [
      "13.5 µs ± 824 ns per loop (mean ± std. dev. of 7 runs, 100000 loops each)\n"
     ]
    }
   ],
   "source": [
    "time_fortran = %timeit -o func_for(10000)"
   ]
  },
  {
   "cell_type": "markdown",
   "metadata": {
    "slideshow": {
     "slide_type": "subslide"
    }
   },
   "source": [
    "# Python Vs Fortran"
   ]
  },
  {
   "cell_type": "code",
   "execution_count": 7,
   "metadata": {
    "slideshow": {
     "slide_type": "-"
    }
   },
   "outputs": [
    {
     "name": "stdout",
     "output_type": "stream",
     "text": [
      "Python time: 0.00106s\n"
     ]
    }
   ],
   "source": [
    "print(\"Python time: {0:.3g}s\".format(time_python.average))"
   ]
  },
  {
   "cell_type": "code",
   "execution_count": 8,
   "metadata": {
    "slideshow": {
     "slide_type": "fragment"
    }
   },
   "outputs": [
    {
     "name": "stdout",
     "output_type": "stream",
     "text": [
      "Fortran time: 1.35e-05s\n"
     ]
    }
   ],
   "source": [
    "print(\"Fortran time: {0:.3g}s\".format(time_fortran.average))"
   ]
  },
  {
   "cell_type": "code",
   "execution_count": 9,
   "metadata": {
    "slideshow": {
     "slide_type": "fragment"
    }
   },
   "outputs": [
    {
     "name": "stdout",
     "output_type": "stream",
     "text": [
      "Fortran is x78.5 time faster than python !\n"
     ]
    }
   ],
   "source": [
    "print(\"Fortran is x{0:.3g} time faster than python !\".format(time_python.average/time_fortran.average))"
   ]
  },
  {
   "cell_type": "markdown",
   "metadata": {
    "slideshow": {
     "slide_type": "subslide"
    }
   },
   "source": [
    "<h1 style=\"color:#CCE6FF;\">Python is SLOW because:</h1>"
   ]
  },
  {
   "cell_type": "markdown",
   "metadata": {
    "slideshow": {
     "slide_type": "-"
    }
   },
   "source": [
    "<div class=\"alert alert-block alert-info\">\n",
    "\n",
    "\n",
    "- Python is high-level, interpreted, and dynamically-typed language\n",
    "\n",
    "- Each Python operation comes with a small type-cheking overhead\n",
    "\n",
    "- With many repeated small opearions (e.g in a loop), this overhead becomes significant !\n",
    "\n",
    "</div>\n"
   ]
  },
  {
   "cell_type": "markdown",
   "metadata": {
    "slideshow": {
     "slide_type": "subslide"
    }
   },
   "source": [
    "# The paradox...\n",
    "\n",
    "What makes Python __fast__ (for developement) is what makes Python __slow__ (for code execution)"
   ]
  },
  {
   "cell_type": "markdown",
   "metadata": {
    "slideshow": {
     "slide_type": "slide"
    }
   },
   "source": [
    "# Strategies to optimize your python codes"
   ]
  },
  {
   "cell_type": "markdown",
   "metadata": {
    "slideshow": {
     "slide_type": "slide"
    }
   },
   "source": [
    "# Strategy #1: Find an existing implementation !\n",
    "\n",
    "Most problems have a low level implementation available in Python. \n",
    "\n",
    "You must find in which package ..."
   ]
  },
  {
   "cell_type": "markdown",
   "metadata": {
    "slideshow": {
     "slide_type": "slide"
    }
   },
   "source": [
    "# Strategy #2: Line profiling\n",
    "\n",
    "Only optimize the piece code that need to be optimize !\n",
    "\n",
    "* A heavy calculation that is done only once may not need to be optimized\n",
    "* A simple calculation that is done thousands of times may need to be optimized"
   ]
  },
  {
   "cell_type": "code",
   "execution_count": 10,
   "metadata": {
    "slideshow": {
     "slide_type": "subslide"
    }
   },
   "outputs": [
    {
     "name": "stdout",
     "output_type": "stream",
     "text": [
      "Timer unit: 1e-07 s\n",
      "\n",
      "Total time: 0.0006537 s\n",
      "File: <ipython-input-10-34ce7046e1ee>\n",
      "Function: do_stuff at line 4\n",
      "\n",
      "Line #      Hits         Time  Per Hit   % Time  Line Contents\n",
      "==============================================================\n",
      "     4                                           def do_stuff(numbers):\n",
      "     5         1        123.0    123.0      1.9      s = sum(numbers)\n",
      "     6         1       2040.0   2040.0     31.2      l = [numbers[i]/43 for i in range(len(numbers))]\n",
      "     7         1       4374.0   4374.0     66.9      m = ['hello'+str(numbers[i]) for i in range(len(numbers))]\n",
      "\n"
     ]
    }
   ],
   "source": [
    "from line_profiler import LineProfiler\n",
    "import random\n",
    "\n",
    "def do_stuff(numbers):\n",
    "    s = sum(numbers)\n",
    "    l = [numbers[i]/43 for i in range(len(numbers))]\n",
    "    m = ['hello'+str(numbers[i]) for i in range(len(numbers))]\n",
    "\n",
    "numbers = [random.randint(1,100) for i in range(1000)]\n",
    "lp = LineProfiler()\n",
    "lp_wrapper = lp(do_stuff)\n",
    "lp_wrapper(numbers)\n",
    "lp.print_stats()"
   ]
  },
  {
   "cell_type": "markdown",
   "metadata": {
    "slideshow": {
     "slide_type": "slide"
    }
   },
   "source": [
    "# Strategy #3: Numpy vectorisation"
   ]
  },
  {
   "cell_type": "markdown",
   "metadata": {
    "slideshow": {
     "slide_type": "-"
    }
   },
   "source": [
    "Numpy is designed to help us get the best of both worlds"
   ]
  },
  {
   "cell_type": "markdown",
   "metadata": {
    "slideshow": {
     "slide_type": "fragment"
    }
   },
   "source": [
    "- Fast development time of Python\n"
   ]
  },
  {
   "cell_type": "markdown",
   "metadata": {
    "slideshow": {
     "slide_type": "fragment"
    }
   },
   "source": [
    "- Fast execution time of C/Fortran\n"
   ]
  },
  {
   "cell_type": "markdown",
   "metadata": {
    "slideshow": {
     "slide_type": "fragment"
    }
   },
   "source": [
    "by pushing repeated operations into a statically-typed compiled layer."
   ]
  },
  {
   "cell_type": "markdown",
   "metadata": {
    "slideshow": {
     "slide_type": "subslide"
    }
   },
   "source": [
    "# Four ways for speeding up code with numpy\n",
    "\n",
    "\n"
   ]
  },
  {
   "cell_type": "markdown",
   "metadata": {
    "slideshow": {
     "slide_type": "fragment"
    }
   },
   "source": [
    "- Use Numpy's ufuncs\n"
   ]
  },
  {
   "cell_type": "markdown",
   "metadata": {
    "slideshow": {
     "slide_type": "fragment"
    }
   },
   "source": [
    "- Use Numpy's aggregations\n"
   ]
  },
  {
   "cell_type": "markdown",
   "metadata": {
    "slideshow": {
     "slide_type": "fragment"
    }
   },
   "source": [
    "- Use Numpy's broadcasting\n"
   ]
  },
  {
   "cell_type": "markdown",
   "metadata": {
    "slideshow": {
     "slide_type": "fragment"
    }
   },
   "source": [
    "- Use Numpy's slicing, masking, and fancy indexing\n"
   ]
  },
  {
   "cell_type": "markdown",
   "metadata": {
    "slideshow": {
     "slide_type": "fragment"
    }
   },
   "source": [
    "Overall goal: push repeated operations into compiler code and get ride of slow loops !"
   ]
  },
  {
   "cell_type": "markdown",
   "metadata": {
    "slideshow": {
     "slide_type": "slide"
    }
   },
   "source": [
    "# Way #1: Using Numpy's ufuncs\n",
    "\n",
    "* ufuncs are Numpy's Universal fonctions\n",
    "* They operate element-wise on arrays"
   ]
  },
  {
   "cell_type": "markdown",
   "metadata": {
    "slideshow": {
     "slide_type": "subslide"
    }
   },
   "source": [
    "Element-wise operations with python lists:"
   ]
  },
  {
   "cell_type": "code",
   "execution_count": 11,
   "metadata": {
    "slideshow": {
     "slide_type": "-"
    }
   },
   "outputs": [
    {
     "name": "stdout",
     "output_type": "stream",
     "text": [
      "[6, 8, 11, 7, 14, 9, 10]\n"
     ]
    }
   ],
   "source": [
    "a = [1, 3, 6, 2, 9, 4, 5]\n",
    "b = [val + 5 for val in a]\n",
    "print(b)"
   ]
  },
  {
   "cell_type": "markdown",
   "metadata": {
    "slideshow": {
     "slide_type": "fragment"
    }
   },
   "source": [
    "with Numpy arrays:"
   ]
  },
  {
   "cell_type": "code",
   "execution_count": 12,
   "metadata": {
    "slideshow": {
     "slide_type": "-"
    }
   },
   "outputs": [
    {
     "name": "stdout",
     "output_type": "stream",
     "text": [
      "[ 6  8 11  7 14  9 10]\n"
     ]
    }
   ],
   "source": [
    "import numpy as np\n",
    "a = np.array(a)\n",
    "b = a + 5\n",
    "print(b)"
   ]
  },
  {
   "cell_type": "markdown",
   "metadata": {
    "slideshow": {
     "slide_type": "subslide"
    }
   },
   "source": [
    "# Ufuncs are fast"
   ]
  },
  {
   "cell_type": "markdown",
   "metadata": {
    "slideshow": {
     "slide_type": "fragment"
    }
   },
   "source": [
    "### Python"
   ]
  },
  {
   "cell_type": "code",
   "execution_count": 13,
   "metadata": {
    "slideshow": {
     "slide_type": "-"
    }
   },
   "outputs": [
    {
     "name": "stdout",
     "output_type": "stream",
     "text": [
      "5.81 ms ± 171 µs per loop (mean ± std. dev. of 7 runs, 100 loops each)\n"
     ]
    }
   ],
   "source": [
    "a = list(range(100000))\n",
    "time_python = %timeit -o [val + 5 for val in a]"
   ]
  },
  {
   "cell_type": "markdown",
   "metadata": {
    "slideshow": {
     "slide_type": "fragment"
    }
   },
   "source": [
    "### Numpy"
   ]
  },
  {
   "cell_type": "code",
   "execution_count": 14,
   "metadata": {
    "slideshow": {
     "slide_type": "-"
    }
   },
   "outputs": [
    {
     "name": "stdout",
     "output_type": "stream",
     "text": [
      "48 µs ± 743 ns per loop (mean ± std. dev. of 7 runs, 10000 loops each)\n"
     ]
    }
   ],
   "source": [
    "a = np.array(a)\n",
    "time_numpy = %timeit -o a + 5"
   ]
  },
  {
   "cell_type": "code",
   "execution_count": 15,
   "metadata": {
    "slideshow": {
     "slide_type": "fragment"
    }
   },
   "outputs": [
    {
     "name": "stdout",
     "output_type": "stream",
     "text": [
      "Numpy is x121 time faster than python !\n"
     ]
    }
   ],
   "source": [
    "print(\"Numpy is x{0:.3g} time faster than python !\".format(time_python.average/time_numpy.average))"
   ]
  },
  {
   "cell_type": "markdown",
   "metadata": {
    "slideshow": {
     "slide_type": "slide"
    }
   },
   "source": [
    "<h1 style=\"color:#CCE6FF;\">There are many ufuncs available</h1>"
   ]
  },
  {
   "cell_type": "markdown",
   "metadata": {
    "slideshow": {
     "slide_type": "-"
    }
   },
   "source": [
    "<div class=\"alert alert-block alert-info\">\n",
    "\n",
    "* Math operations (+ - * / // % **)\n",
    "* Trigonometric functions (np.sin np.cos np.tan...)\n",
    "* Bit-twiddling functions (& | ~ ^ >> <<)\n",
    "* Comparison functions (< > <= >= == !=)\n",
    "* Exponential functions (np.exp np.log np.log10...)\n",
    "* Specialized ufuncs in scipy.special\n",
    "\n",
    "And many, many more.\n",
    "\n",
    "</div>"
   ]
  },
  {
   "cell_type": "markdown",
   "metadata": {
    "slideshow": {
     "slide_type": "slide"
    }
   },
   "source": [
    "# Way #2: Using Numpy's aggregations\n",
    "\n",
    "Aggregations are functions witch summarize the value in an array (e.g min, max, sum, mean, ect.)"
   ]
  },
  {
   "cell_type": "markdown",
   "metadata": {
    "slideshow": {
     "slide_type": "slide"
    }
   },
   "source": [
    "## Numpy aggregations are much faster than Python built-ins"
   ]
  },
  {
   "cell_type": "markdown",
   "metadata": {
    "slideshow": {
     "slide_type": "fragment"
    }
   },
   "source": [
    "### Python"
   ]
  },
  {
   "cell_type": "code",
   "execution_count": 16,
   "metadata": {
    "slideshow": {
     "slide_type": "-"
    }
   },
   "outputs": [
    {
     "name": "stdout",
     "output_type": "stream",
     "text": [
      "1.91 ms ± 35 µs per loop (mean ± std. dev. of 7 runs, 100 loops each)\n"
     ]
    }
   ],
   "source": [
    "from random import random\n",
    "c = [random() for i in range(100000)]\n",
    "\n",
    "time_python = %timeit -o min(c)"
   ]
  },
  {
   "cell_type": "markdown",
   "metadata": {
    "slideshow": {
     "slide_type": "fragment"
    }
   },
   "source": [
    "### Numpy"
   ]
  },
  {
   "cell_type": "code",
   "execution_count": 17,
   "metadata": {
    "slideshow": {
     "slide_type": "-"
    }
   },
   "outputs": [
    {
     "name": "stdout",
     "output_type": "stream",
     "text": [
      "34.9 µs ± 573 ns per loop (mean ± std. dev. of 7 runs, 10000 loops each)\n"
     ]
    }
   ],
   "source": [
    "c = np.array(c)\n",
    "\n",
    "time_numpy = %timeit -o c.min()"
   ]
  },
  {
   "cell_type": "code",
   "execution_count": 18,
   "metadata": {
    "slideshow": {
     "slide_type": "fragment"
    }
   },
   "outputs": [
    {
     "name": "stdout",
     "output_type": "stream",
     "text": [
      "Numpy is x54.8 time faster than python !\n"
     ]
    }
   ],
   "source": [
    "print(\"Numpy is x{0:.3g} time faster than python !\".format(time_python.average/time_numpy.average))"
   ]
  },
  {
   "cell_type": "markdown",
   "metadata": {
    "slideshow": {
     "slide_type": "slide"
    }
   },
   "source": [
    "## Numpy aggreations work on multi-dimensional arrays"
   ]
  },
  {
   "cell_type": "code",
   "execution_count": 19,
   "metadata": {
    "slideshow": {
     "slide_type": "-"
    }
   },
   "outputs": [
    {
     "data": {
      "text/plain": [
       "array([[4, 9, 5, 0, 8],\n",
       "       [1, 2, 0, 0, 1],\n",
       "       [9, 6, 6, 7, 1]])"
      ]
     },
     "execution_count": 19,
     "metadata": {},
     "output_type": "execute_result"
    }
   ],
   "source": [
    "M = np.random.randint(0,10,(3,5))\n",
    "M"
   ]
  },
  {
   "cell_type": "code",
   "execution_count": 20,
   "metadata": {
    "slideshow": {
     "slide_type": "fragment"
    }
   },
   "outputs": [
    {
     "data": {
      "text/plain": [
       "array([14, 17, 11,  7, 10])"
      ]
     },
     "execution_count": 20,
     "metadata": {},
     "output_type": "execute_result"
    }
   ],
   "source": [
    "M.sum(axis=0)"
   ]
  },
  {
   "cell_type": "code",
   "execution_count": 21,
   "metadata": {
    "slideshow": {
     "slide_type": "fragment"
    }
   },
   "outputs": [
    {
     "data": {
      "text/plain": [
       "array([26,  4, 29])"
      ]
     },
     "execution_count": 21,
     "metadata": {},
     "output_type": "execute_result"
    }
   ],
   "source": [
    "M.sum(axis=1)"
   ]
  },
  {
   "cell_type": "markdown",
   "metadata": {
    "slideshow": {
     "slide_type": "slide"
    }
   },
   "source": [
    "<h1 style=\"color:#CCE6FF;\">Lots of aggregations available</h1>"
   ]
  },
  {
   "cell_type": "markdown",
   "metadata": {
    "slideshow": {
     "slide_type": "-"
    }
   },
   "source": [
    "<div class=\"alert alert-block alert-info\">\n",
    "\n",
    "np.min() np.max() np.sum() np.prod() np.mean() np.std()\n",
    "np.var() np.any() np.all() np.median() np.percentile() np.argmin() np.argmax()...\n",
    "\n",
    "np.nanmin() np.nanmax() np.nansum()\n",
    "\n",
    "</div>"
   ]
  },
  {
   "cell_type": "markdown",
   "metadata": {
    "slideshow": {
     "slide_type": "slide"
    }
   },
   "source": [
    "# Way #3: Use Numpy's broadcasting\n",
    "\n",
    "Broadcasting is a set of rules by witch ufuncs operate on arrays of different size and/or dimensions"
   ]
  },
  {
   "cell_type": "markdown",
   "metadata": {
    "slideshow": {
     "slide_type": "fragment"
    }
   },
   "source": [
    "When operating on two arrays, NumPy compares their shapes element-wise. It starts with the trailing dimensions, and works its way forward. Two dimensions are compatible when:"
   ]
  },
  {
   "cell_type": "markdown",
   "metadata": {
    "slideshow": {
     "slide_type": "fragment"
    }
   },
   "source": [
    "1. they are equal, or"
   ]
  },
  {
   "cell_type": "markdown",
   "metadata": {
    "slideshow": {
     "slide_type": "fragment"
    }
   },
   "source": [
    "2. one of them is 1"
   ]
  },
  {
   "cell_type": "markdown",
   "metadata": {
    "slideshow": {
     "slide_type": "slide"
    }
   },
   "source": [
    "<img src=\"numpy_broadcasting.PNG\">"
   ]
  },
  {
   "cell_type": "markdown",
   "metadata": {
    "slideshow": {
     "slide_type": "subslide"
    }
   },
   "source": [
    "# Broadcasting rules\n",
    "\n"
   ]
  },
  {
   "cell_type": "markdown",
   "metadata": {
    "slideshow": {
     "slide_type": "fragment"
    }
   },
   "source": [
    "1. If array shapes differ, left-pad the smaller shape with size 1.\n"
   ]
  },
  {
   "cell_type": "markdown",
   "metadata": {
    "slideshow": {
     "slide_type": "fragment"
    }
   },
   "source": [
    "2. If any dimension does not match, broadcast the dimension with size=1\n"
   ]
  },
  {
   "cell_type": "markdown",
   "metadata": {
    "slideshow": {
     "slide_type": "fragment"
    }
   },
   "source": [
    "3. If neither non-matching dimension is 1, raise an error."
   ]
  },
  {
   "cell_type": "markdown",
   "metadata": {
    "slideshow": {
     "slide_type": "subslide"
    }
   },
   "source": [
    "<img src=\"numpy_broadcasting_cas_1.PNG\">\n",
    "\n",
    "#### At strarting \n",
    "* shape=[3] + shape[]\n",
    "\n",
    "#### rule 1. If array shapes differ, left-pad the smaller shape with 1s\n",
    "* shape=[3] + shape[1]\n",
    "\n",
    "#### rule 2. If any dimension does not match, broadcast the dimension with size=1\n",
    "* shape=[3] + shape[3] --> final shape = [3]"
   ]
  },
  {
   "cell_type": "markdown",
   "metadata": {
    "slideshow": {
     "slide_type": "subslide"
    }
   },
   "source": [
    "<img src=\"numpy_broadcasting_cas_2.PNG\">\n",
    "\n",
    "#### At strarting \n",
    "* shape=[3,3] + shape[3]\n",
    "\n",
    "#### rule 1. If array shapes differ, left-pad the smaller shape with 1s\n",
    "* shape=[3,3] + shape[1,3]\n",
    "\n",
    "#### rule 2. If any dimension does not match, broadcast the dimension with size=1\n",
    "* shape=[3,3] + shape[3,3] --> final shape = [3,3]"
   ]
  },
  {
   "cell_type": "markdown",
   "metadata": {
    "slideshow": {
     "slide_type": "subslide"
    }
   },
   "source": [
    "<img src=\"numpy_broadcasting_cas_3.PNG\">\n",
    "\n",
    "#### At strarting \n",
    "* shape=[3,1] + shape[3]\n",
    "\n",
    "#### rule 1. If array shapes differ, left-pad the smaller shape with 1s\n",
    "* shape=[3,1] + shape[1,3]\n",
    "\n",
    "#### rule 2. If any dimension does not match, broadcast the dimension with size=1\n",
    "* shape=[3,3] + shape[3,3] --> final shape = [3,3]"
   ]
  },
  {
   "cell_type": "markdown",
   "metadata": {
    "slideshow": {
     "slide_type": "slide"
    }
   },
   "source": [
    "# Way #4: Use Numpy's slicing, masking, and fancy indexing\n"
   ]
  },
  {
   "cell_type": "markdown",
   "metadata": {
    "slideshow": {
     "slide_type": "slide"
    }
   },
   "source": [
    "## With Python lists, indecing accepts integers of slices"
   ]
  },
  {
   "cell_type": "code",
   "execution_count": 22,
   "metadata": {
    "slideshow": {
     "slide_type": "-"
    }
   },
   "outputs": [
    {
     "data": {
      "text/plain": [
       "2"
      ]
     },
     "execution_count": 22,
     "metadata": {},
     "output_type": "execute_result"
    }
   ],
   "source": [
    "L = [2, 3, 5, 7, 11]\n",
    "L[0] # integer index"
   ]
  },
  {
   "cell_type": "code",
   "execution_count": 23,
   "metadata": {
    "slideshow": {
     "slide_type": "fragment"
    }
   },
   "outputs": [
    {
     "data": {
      "text/plain": [
       "[3, 5]"
      ]
     },
     "execution_count": 23,
     "metadata": {},
     "output_type": "execute_result"
    }
   ],
   "source": [
    "L[1:3] # slice for multiple elements"
   ]
  },
  {
   "cell_type": "markdown",
   "metadata": {
    "slideshow": {
     "slide_type": "subslide"
    }
   },
   "source": [
    "## Numpy arrays are similar"
   ]
  },
  {
   "cell_type": "code",
   "execution_count": 24,
   "metadata": {
    "slideshow": {
     "slide_type": "-"
    }
   },
   "outputs": [
    {
     "data": {
      "text/plain": [
       "array([ 2,  3,  5,  7, 11])"
      ]
     },
     "execution_count": 24,
     "metadata": {},
     "output_type": "execute_result"
    }
   ],
   "source": [
    "import numpy as np\n",
    "L = np.array(L)\n",
    "L"
   ]
  },
  {
   "cell_type": "code",
   "execution_count": 25,
   "metadata": {
    "slideshow": {
     "slide_type": "fragment"
    }
   },
   "outputs": [
    {
     "data": {
      "text/plain": [
       "2"
      ]
     },
     "execution_count": 25,
     "metadata": {},
     "output_type": "execute_result"
    }
   ],
   "source": [
    "L[0]"
   ]
  },
  {
   "cell_type": "code",
   "execution_count": 26,
   "metadata": {
    "slideshow": {
     "slide_type": "fragment"
    }
   },
   "outputs": [
    {
     "data": {
      "text/plain": [
       "array([3, 5])"
      ]
     },
     "execution_count": 26,
     "metadata": {},
     "output_type": "execute_result"
    }
   ],
   "source": [
    "L[1:3]"
   ]
  },
  {
   "cell_type": "markdown",
   "metadata": {
    "slideshow": {
     "slide_type": "slide"
    }
   },
   "source": [
    "# but Numpy offers other fast and convenient indexing options as well."
   ]
  },
  {
   "cell_type": "markdown",
   "metadata": {
    "slideshow": {
     "slide_type": "slide"
    }
   },
   "source": [
    "## \"Masking\": indexing with boolean masks"
   ]
  },
  {
   "cell_type": "code",
   "execution_count": 27,
   "metadata": {
    "slideshow": {
     "slide_type": "-"
    }
   },
   "outputs": [
    {
     "data": {
      "text/plain": [
       "array([ 2,  3,  5,  7, 11])"
      ]
     },
     "execution_count": 27,
     "metadata": {},
     "output_type": "execute_result"
    }
   ],
   "source": [
    "L"
   ]
  },
  {
   "cell_type": "markdown",
   "metadata": {
    "slideshow": {
     "slide_type": "-"
    }
   },
   "source": [
    "A mask is a boolean array:"
   ]
  },
  {
   "cell_type": "code",
   "execution_count": 28,
   "metadata": {
    "slideshow": {
     "slide_type": "-"
    }
   },
   "outputs": [
    {
     "data": {
      "text/plain": [
       "array([ 3,  5, 11])"
      ]
     },
     "execution_count": 28,
     "metadata": {},
     "output_type": "execute_result"
    }
   ],
   "source": [
    "mask = np.array([False, True, True, False, True])\n",
    "L[mask]"
   ]
  },
  {
   "cell_type": "markdown",
   "metadata": {
    "slideshow": {
     "slide_type": "slide"
    }
   },
   "source": [
    "## \"Masking\": indexing with boolean masks"
   ]
  },
  {
   "cell_type": "code",
   "execution_count": 29,
   "metadata": {
    "slideshow": {
     "slide_type": "-"
    }
   },
   "outputs": [
    {
     "data": {
      "text/plain": [
       "array([ 2,  3,  5,  7, 11])"
      ]
     },
     "execution_count": 29,
     "metadata": {},
     "output_type": "execute_result"
    }
   ],
   "source": [
    "L"
   ]
  },
  {
   "cell_type": "markdown",
   "metadata": {
    "slideshow": {
     "slide_type": "-"
    }
   },
   "source": [
    "Masks are often constructed using comparaison operators and boolean logic"
   ]
  },
  {
   "cell_type": "code",
   "execution_count": 30,
   "metadata": {
    "slideshow": {
     "slide_type": "-"
    }
   },
   "outputs": [
    {
     "data": {
      "text/plain": [
       "array([ 2,  3, 11])"
      ]
     },
     "execution_count": 30,
     "metadata": {},
     "output_type": "execute_result"
    }
   ],
   "source": [
    "mask = (L < 4) | (L > 8) # \"|\" = \"bitwise or\"\n",
    "L[mask]"
   ]
  },
  {
   "cell_type": "markdown",
   "metadata": {
    "slideshow": {
     "slide_type": "slide"
    }
   },
   "source": [
    "## \"Fancy indexing\" : passing a list/array of indices"
   ]
  },
  {
   "cell_type": "code",
   "execution_count": 31,
   "metadata": {
    "slideshow": {
     "slide_type": "-"
    }
   },
   "outputs": [
    {
     "data": {
      "text/plain": [
       "array([ 2,  3,  5,  7, 11])"
      ]
     },
     "execution_count": 31,
     "metadata": {},
     "output_type": "execute_result"
    }
   ],
   "source": [
    "L"
   ]
  },
  {
   "cell_type": "code",
   "execution_count": 32,
   "metadata": {
    "slideshow": {
     "slide_type": "-"
    }
   },
   "outputs": [
    {
     "data": {
      "text/plain": [
       "array([ 2, 11,  5])"
      ]
     },
     "execution_count": 32,
     "metadata": {},
     "output_type": "execute_result"
    }
   ],
   "source": [
    "ind = [0, 4 , 2]\n",
    "L[ind]"
   ]
  },
  {
   "cell_type": "markdown",
   "metadata": {
    "slideshow": {
     "slide_type": "slide"
    }
   },
   "source": [
    "## Multiple dimensions: use commas to seperate indices"
   ]
  },
  {
   "cell_type": "code",
   "execution_count": 33,
   "metadata": {
    "scrolled": true,
    "slideshow": {
     "slide_type": "-"
    }
   },
   "outputs": [
    {
     "data": {
      "text/plain": [
       "array([[0, 1, 2],\n",
       "       [3, 4, 5]])"
      ]
     },
     "execution_count": 33,
     "metadata": {},
     "output_type": "execute_result"
    }
   ],
   "source": [
    "M = np.arange(6).reshape(2,3)\n",
    "M"
   ]
  },
  {
   "cell_type": "code",
   "execution_count": 34,
   "metadata": {
    "slideshow": {
     "slide_type": "-"
    }
   },
   "outputs": [
    {
     "data": {
      "text/plain": [
       "1"
      ]
     },
     "execution_count": 34,
     "metadata": {},
     "output_type": "execute_result"
    }
   ],
   "source": [
    "#multiple indices separated by comma\n",
    "M[0,1]"
   ]
  },
  {
   "cell_type": "code",
   "execution_count": 35,
   "metadata": {
    "slideshow": {
     "slide_type": "-"
    }
   },
   "outputs": [
    {
     "data": {
      "text/plain": [
       "array([1, 4])"
      ]
     },
     "execution_count": 35,
     "metadata": {},
     "output_type": "execute_result"
    }
   ],
   "source": [
    "M[:, 1]"
   ]
  },
  {
   "cell_type": "markdown",
   "metadata": {
    "slideshow": {
     "slide_type": "slide"
    }
   },
   "source": [
    "## Masking in multiple dimensions"
   ]
  },
  {
   "cell_type": "code",
   "execution_count": 36,
   "metadata": {
    "slideshow": {
     "slide_type": "-"
    }
   },
   "outputs": [
    {
     "data": {
      "text/plain": [
       "array([[0, 1, 2],\n",
       "       [3, 4, 5]])"
      ]
     },
     "execution_count": 36,
     "metadata": {},
     "output_type": "execute_result"
    }
   ],
   "source": [
    "M"
   ]
  },
  {
   "cell_type": "code",
   "execution_count": 37,
   "metadata": {
    "slideshow": {
     "slide_type": "-"
    }
   },
   "outputs": [
    {
     "data": {
      "text/plain": [
       "array([2, 3, 4])"
      ]
     },
     "execution_count": 37,
     "metadata": {},
     "output_type": "execute_result"
    }
   ],
   "source": [
    "M[abs(M-3)<2]"
   ]
  },
  {
   "cell_type": "markdown",
   "metadata": {
    "slideshow": {
     "slide_type": "slide"
    }
   },
   "source": [
    "## Mixing fancy indexing and slicing"
   ]
  },
  {
   "cell_type": "code",
   "execution_count": 38,
   "metadata": {
    "slideshow": {
     "slide_type": "-"
    }
   },
   "outputs": [
    {
     "data": {
      "text/plain": [
       "array([[0, 1, 2],\n",
       "       [3, 4, 5]])"
      ]
     },
     "execution_count": 38,
     "metadata": {},
     "output_type": "execute_result"
    }
   ],
   "source": [
    "M"
   ]
  },
  {
   "cell_type": "code",
   "execution_count": 39,
   "metadata": {
    "slideshow": {
     "slide_type": "-"
    }
   },
   "outputs": [
    {
     "data": {
      "text/plain": [
       "array([[3, 4],\n",
       "       [0, 1]])"
      ]
     },
     "execution_count": 39,
     "metadata": {},
     "output_type": "execute_result"
    }
   ],
   "source": [
    "M[[1,0], :2]"
   ]
  },
  {
   "cell_type": "markdown",
   "metadata": {
    "slideshow": {
     "slide_type": "slide"
    }
   },
   "source": [
    "## Mixing masking and slicing"
   ]
  },
  {
   "cell_type": "code",
   "execution_count": 40,
   "metadata": {
    "slideshow": {
     "slide_type": "-"
    }
   },
   "outputs": [
    {
     "data": {
      "text/plain": [
       "array([[0, 1, 2],\n",
       "       [3, 4, 5]])"
      ]
     },
     "execution_count": 40,
     "metadata": {},
     "output_type": "execute_result"
    }
   ],
   "source": [
    "M"
   ]
  },
  {
   "cell_type": "code",
   "execution_count": 41,
   "metadata": {
    "slideshow": {
     "slide_type": "-"
    }
   },
   "outputs": [
    {
     "data": {
      "text/plain": [
       "array([[4, 5]])"
      ]
     },
     "execution_count": 41,
     "metadata": {},
     "output_type": "execute_result"
    }
   ],
   "source": [
    "M[M.sum(axis = 1) > 4, 1:]"
   ]
  },
  {
   "cell_type": "code",
   "execution_count": 42,
   "metadata": {
    "slideshow": {
     "slide_type": "skip"
    }
   },
   "outputs": [
    {
     "data": {
      "text/plain": [
       "array([False,  True,  True])"
      ]
     },
     "execution_count": 42,
     "metadata": {},
     "output_type": "execute_result"
    }
   ],
   "source": [
    "M.sum(axis = 0) > 4"
   ]
  },
  {
   "cell_type": "markdown",
   "metadata": {
    "slideshow": {
     "slide_type": "slide"
    }
   },
   "source": [
    "# All of these operations can be composed and combined in nearly limitless way"
   ]
  },
  {
   "cell_type": "markdown",
   "metadata": {
    "slideshow": {
     "slide_type": "slide"
    }
   },
   "source": [
    "<h1 style=\"color:#CCFFCC;\">Numpy advantage:</h1>"
   ]
  },
  {
   "cell_type": "markdown",
   "metadata": {
    "slideshow": {
     "slide_type": "-"
    }
   },
   "source": [
    "<div class=\"alert alert-block alert-success\">\n",
    "\n",
    "\n",
    "- Python overhead per array rather than per array element\n",
    "\n",
    "- Compact domain specific language for array operations\n",
    "\n",
    "- Numpy is widely available\n",
    "\n",
    "</div>"
   ]
  },
  {
   "cell_type": "markdown",
   "metadata": {
    "slideshow": {
     "slide_type": "fragment"
    }
   },
   "source": [
    "<h1 style=\"color:#ffcccc;\">Numpy disadvantages:</h1>"
   ]
  },
  {
   "cell_type": "markdown",
   "metadata": {
    "slideshow": {
     "slide_type": "-"
    }
   },
   "source": [
    "<div class=\"alert alert-block alert-danger\">\n",
    "    \n",
    "- Batch operations can lead to excessive memory usage\n",
    "- Different way of thinking about writing code\n",
    "</div>"
   ]
  },
  {
   "cell_type": "markdown",
   "metadata": {
    "slideshow": {
     "slide_type": "subslide"
    }
   },
   "source": [
    "<h1 style=\"color:#CCE6FF;\">Recommendation</h1>"
   ]
  },
  {
   "cell_type": "markdown",
   "metadata": {
    "slideshow": {
     "slide_type": "-"
    }
   },
   "source": [
    "<div class=\"alert alert-block alert-info\">\n",
    "\n",
    "Use Numpy everywhere\n",
    "\n",
    "</div>\n",
    "\n"
   ]
  },
  {
   "cell_type": "markdown",
   "metadata": {
    "slideshow": {
     "slide_type": "slide"
    }
   },
   "source": [
    "# Strategy #4: Numba"
   ]
  },
  {
   "cell_type": "code",
   "execution_count": 43,
   "metadata": {
    "slideshow": {
     "slide_type": "-"
    }
   },
   "outputs": [
    {
     "name": "stdout",
     "output_type": "stream",
     "text": [
      "1.45 ms ± 179 µs per loop (mean ± std. dev. of 7 runs, 100 loops each)\n"
     ]
    }
   ],
   "source": [
    "def func_python(N):\n",
    "    d = 0.0\n",
    "    for i in range(N):\n",
    "        d += (i % 3 - 1) * i\n",
    "    return d\n",
    "\n",
    "time_python = %timeit -o func_python(10000)"
   ]
  },
  {
   "cell_type": "code",
   "execution_count": 44,
   "metadata": {
    "slideshow": {
     "slide_type": "subslide"
    }
   },
   "outputs": [
    {
     "name": "stdout",
     "output_type": "stream",
     "text": [
      "12.6 µs ± 981 ns per loop (mean ± std. dev. of 7 runs, 1 loop each)\n"
     ]
    }
   ],
   "source": [
    "from numba import jit\n",
    "\n",
    "@jit(nopython=True)\n",
    "def func_python(N):\n",
    "    d = 0.0\n",
    "    for i in range(N):\n",
    "        d += (i % 3 - 1) * i\n",
    "    return d\n",
    "\n",
    "time_numba = %timeit -o func_python(10000)"
   ]
  },
  {
   "cell_type": "markdown",
   "metadata": {
    "slideshow": {
     "slide_type": "slide"
    }
   },
   "source": [
    "# Python Vs Numba"
   ]
  },
  {
   "cell_type": "code",
   "execution_count": 45,
   "metadata": {
    "slideshow": {
     "slide_type": "-"
    }
   },
   "outputs": [
    {
     "name": "stdout",
     "output_type": "stream",
     "text": [
      "Python time: 0.00145s\n"
     ]
    }
   ],
   "source": [
    "print(\"Python time: {0:.3g}s\".format(time_python.average))"
   ]
  },
  {
   "cell_type": "code",
   "execution_count": 46,
   "metadata": {
    "slideshow": {
     "slide_type": "fragment"
    }
   },
   "outputs": [
    {
     "name": "stdout",
     "output_type": "stream",
     "text": [
      "Numba time: 1.26e-05s\n"
     ]
    }
   ],
   "source": [
    "print(\"Numba time: {0:.3g}s\".format(time_numba.average))"
   ]
  },
  {
   "cell_type": "code",
   "execution_count": 47,
   "metadata": {
    "slideshow": {
     "slide_type": "fragment"
    }
   },
   "outputs": [
    {
     "name": "stdout",
     "output_type": "stream",
     "text": [
      "Numba is x115 time faster than python !\n"
     ]
    }
   ],
   "source": [
    "print(\"Numba is x{0:.3g} time faster than python !\".format(time_python.average/time_numba.average))"
   ]
  },
  {
   "cell_type": "markdown",
   "metadata": {
    "slideshow": {
     "slide_type": "slide"
    }
   },
   "source": [
    "<h1 style=\"color:#CCFFCC;\">Numba advantage:</h1>"
   ]
  },
  {
   "cell_type": "markdown",
   "metadata": {
    "slideshow": {
     "slide_type": "-"
    }
   },
   "source": [
    "<div class=\"alert alert-block alert-success\">\n",
    "\n",
    "\n",
    " - Python code JIT-compiler to fortran speeds!\n",
    "\n",
    "</div>"
   ]
  },
  {
   "cell_type": "markdown",
   "metadata": {
    "slideshow": {
     "slide_type": "fragment"
    }
   },
   "source": [
    "<h1 style=\"color:#ffcccc;\">Numba disadvantages:</h1>"
   ]
  },
  {
   "cell_type": "markdown",
   "metadata": {
    "slideshow": {
     "slide_type": "-"
    }
   },
   "source": [
    "<div class=\"alert alert-block alert-danger\">\n",
    "    \n",
    "- Heavy dependency chain (LLVM)\n",
    "- Some Python constructs not supported\n",
    "- Still a bit finicky\n",
    "</div>"
   ]
  },
  {
   "cell_type": "markdown",
   "metadata": {
    "slideshow": {
     "slide_type": "subslide"
    }
   },
   "source": [
    "<h1 style=\"color:#CCE6FF;\">Recommendation</h1>"
   ]
  },
  {
   "cell_type": "markdown",
   "metadata": {
    "slideshow": {
     "slide_type": "-"
    }
   },
   "source": [
    "<div class=\"alert alert-block alert-info\">\n",
    "\n",
    "Use for analysis scripts where dependencies are not a concern.\n",
    "\n",
    "</div>"
   ]
  },
  {
   "cell_type": "markdown",
   "metadata": {
    "slideshow": {
     "slide_type": "slide"
    }
   },
   "source": [
    "# Real case comparaison between differents implementations\n",
    "\n",
    "Implementing a fast FWHM code"
   ]
  },
  {
   "cell_type": "code",
   "execution_count": 48,
   "metadata": {
    "scrolled": false,
    "slideshow": {
     "slide_type": "slide"
    }
   },
   "outputs": [
    {
     "data": {
      "image/png": "[encoded data removed]",
      "text/plain": [
       "<Figure size 432x288 with 1 Axes>"
      ]
     },
     "metadata": {
      "needs_background": "light"
     },
     "output_type": "display_data"
    }
   ],
   "source": [
    "x = np.linspace(1,35000,35000)\n",
    "\n",
    "def lorentzienne(x, amp=10000, cen=12000, mih=867):\n",
    "    return amp**2 * ((2./(np.pi*mih)) / (1. + ((x-cen)/(mih/2.))**2))\n",
    "\n",
    "y = lorentzienne(x)\n",
    "plt.plot(x,y)\n",
    "plt.grid()"
   ]
  },
  {
   "cell_type": "markdown",
   "metadata": {
    "slideshow": {
     "slide_type": "slide"
    }
   },
   "source": [
    "# Good algorithm, fast implementation\n",
    "\n",
    "### Scipy special function using cython"
   ]
  },
  {
   "cell_type": "code",
   "execution_count": 49,
   "metadata": {
    "slideshow": {
     "slide_type": "-"
    }
   },
   "outputs": [
    {
     "data": {
      "text/plain": [
       "865.8707129187205"
      ]
     },
     "execution_count": 49,
     "metadata": {},
     "output_type": "execute_result"
    }
   ],
   "source": [
    "from scipy.signal import chirp, find_peaks, peak_widths\n",
    "\n",
    "def FWHM_scipy(y):\n",
    "    peaks, _ = find_peaks(y)\n",
    "    results_half = peak_widths(y, peaks, rel_height=0.5)\n",
    "    return results_half[0][0]\n",
    "\n",
    "FWHM_scipy(y)"
   ]
  },
  {
   "cell_type": "code",
   "execution_count": 50,
   "metadata": {
    "slideshow": {
     "slide_type": "fragment"
    }
   },
   "outputs": [
    {
     "name": "stdout",
     "output_type": "stream",
     "text": [
      "157 µs ± 869 ns per loop (mean ± std. dev. of 7 runs, 10000 loops each)\n"
     ]
    }
   ],
   "source": [
    "time_cython = %timeit -o FWHM_scipy(y)"
   ]
  },
  {
   "cell_type": "markdown",
   "metadata": {
    "slideshow": {
     "slide_type": "slide"
    }
   },
   "source": [
    "# Bad algorithm, fast implementation\n",
    "\n",
    "## FWHM using scipy interp1d and fsolve"
   ]
  },
  {
   "cell_type": "code",
   "execution_count": 51,
   "metadata": {
    "slideshow": {
     "slide_type": "subslide"
    }
   },
   "outputs": [
    {
     "data": {
      "text/plain": [
       "866.6926925680727"
      ]
     },
     "execution_count": 51,
     "metadata": {},
     "output_type": "execute_result"
    }
   ],
   "source": [
    "from scipy.interpolate import interp1d\n",
    "from scipy.optimize import fsolve\n",
    "\n",
    "def largeur_mi_hauteur(x,y,kind_inteporlation='linear',nb_pt_ecart_du_max=10):\n",
    "    #On retire le min au signal\n",
    "    min_y = np.min(y)\n",
    "    y = y - min_y\n",
    "    #On crée une fonction de y - max(y) / 2 dont on cherchera les zeros pour\n",
    "    #determiner la largeur a mi hauteur\n",
    "    funct_data = interp1d(x,y-y.max()/2., kind='linear', bounds_error=False, fill_value=-1.0)\n",
    "    #On cherche l'index de la valeur max de y\n",
    "    arg_x_max = np.argmax(y)\n",
    "    #A partir de l'index que l'on decale a gauche et a droite de nb_pt_ecart_du_max\n",
    "    #on determine les points de depart du solveur itératif\n",
    "    point_depart_solveur_min = x[arg_x_max - nb_pt_ecart_du_max]\n",
    "    point_depart_solveur_max = x[arg_x_max + nb_pt_ecart_du_max]\n",
    "    points_depart_solveur = np.array([point_depart_solveur_min, \n",
    "                                      point_depart_solveur_max])\n",
    "    #On cherche les premiers zeros de la fonction a gauche et a droite du max\n",
    "    x_de_y_sur_2 = fsolve(funct_data, points_depart_solveur)\n",
    "    #On determine la largeur a mi hauteur\n",
    "    largeur_mi_hauteur = (x_de_y_sur_2.max() - x_de_y_sur_2.min())\n",
    "    return largeur_mi_hauteur\n",
    "\n",
    "largeur_mi_hauteur(x,y)"
   ]
  },
  {
   "cell_type": "code",
   "execution_count": 52,
   "metadata": {
    "slideshow": {
     "slide_type": "subslide"
    }
   },
   "outputs": [
    {
     "name": "stdout",
     "output_type": "stream",
     "text": [
      "1.12 ms ± 17.1 µs per loop (mean ± std. dev. of 7 runs, 1000 loops each)\n"
     ]
    }
   ],
   "source": [
    "time_fsolve = %timeit -o largeur_mi_hauteur(x,y)"
   ]
  },
  {
   "cell_type": "code",
   "execution_count": 53,
   "metadata": {
    "slideshow": {
     "slide_type": "fragment"
    }
   },
   "outputs": [
    {
     "name": "stdout",
     "output_type": "stream",
     "text": [
      "Timer unit: 1e-07 s\n",
      "\n",
      "Total time: 0.0035609 s\n",
      "File: <ipython-input-51-1f982b9af450>\n",
      "Function: largeur_mi_hauteur at line 4\n",
      "\n",
      "Line #      Hits         Time  Per Hit   % Time  Line Contents\n",
      "==============================================================\n",
      "     4                                           def largeur_mi_hauteur(x,y,kind_inteporlation='linear',nb_pt_ecart_du_max=10):\n",
      "     5                                               #On retire le min au signal\n",
      "     6         1       4610.0   4610.0     12.9      min_y = np.min(y)\n",
      "     7         1        604.0    604.0      1.7      y = y - min_y\n",
      "     8                                               #On crée une fonction de y - max(y) / 2 dont on cherchera les zeros pour\n",
      "     9                                               #determiner la largeur a mi hauteur\n",
      "    10         1      11884.0  11884.0     33.4      funct_data = interp1d(x,y-y.max()/2., kind='linear', bounds_error=False, fill_value=-1.0)\n",
      "    11                                               #On cherche l'index de la valeur max de y\n",
      "    12         1       1323.0   1323.0      3.7      arg_x_max = np.argmax(y)\n",
      "    13                                               #A partir de l'index que l'on decale a gauche et a droite de nb_pt_ecart_du_max\n",
      "    14                                               #on determine les points de depart du solveur itératif\n",
      "    15         1         74.0     74.0      0.2      point_depart_solveur_min = x[arg_x_max - nb_pt_ecart_du_max]\n",
      "    16         1         28.0     28.0      0.1      point_depart_solveur_max = x[arg_x_max + nb_pt_ecart_du_max]\n",
      "    17         1         15.0     15.0      0.0      points_depart_solveur = np.array([point_depart_solveur_min, \n",
      "    18         1         97.0     97.0      0.3                                        point_depart_solveur_max])\n",
      "    19                                               #On cherche les premiers zeros de la fonction a gauche et a droite du max\n",
      "    20         1      16704.0  16704.0     46.9      x_de_y_sur_2 = fsolve(funct_data, points_depart_solveur)\n",
      "    21                                               #On determine la largeur a mi hauteur\n",
      "    22         1        263.0    263.0      0.7      largeur_mi_hauteur = (x_de_y_sur_2.max() - x_de_y_sur_2.min())\n",
      "    23         1          7.0      7.0      0.0      return largeur_mi_hauteur\n",
      "\n"
     ]
    }
   ],
   "source": [
    "from line_profiler import LineProfiler\n",
    "\n",
    "lp = LineProfiler()\n",
    "lp_wrapper = lp(largeur_mi_hauteur)\n",
    "lp_wrapper(x,y)\n",
    "lp.print_stats()"
   ]
  },
  {
   "cell_type": "markdown",
   "metadata": {
    "slideshow": {
     "slide_type": "slide"
    }
   },
   "source": [
    "# Good algorithm, slow implementation\n",
    "\n",
    "## Pythonic way"
   ]
  },
  {
   "cell_type": "code",
   "execution_count": 54,
   "metadata": {
    "slideshow": {
     "slide_type": "-"
    }
   },
   "outputs": [],
   "source": [
    "x = x.tolist()\n",
    "y = y.tolist()"
   ]
  },
  {
   "cell_type": "code",
   "execution_count": 55,
   "metadata": {
    "slideshow": {
     "slide_type": "subslide"
    }
   },
   "outputs": [
    {
     "data": {
      "text/plain": [
       "866.6926925185362"
      ]
     },
     "execution_count": 55,
     "metadata": {},
     "output_type": "execute_result"
    }
   ],
   "source": [
    "def FWHM_python(x,y):\n",
    "    n = len(y)\n",
    "    min_y = min(y)\n",
    "    y_no_offset = [val - min_y for val in y]\n",
    "    max_y = max(y_no_offset)\n",
    "    max_sur_2 = max_y/2\n",
    "    index_max_y = y.index(max(y))\n",
    "    for i in range(index_max_y,0,-1):\n",
    "        if y_no_offset[i] < max_sur_2:\n",
    "            index0 = i\n",
    "            break\n",
    "    for i in range(index_max_y,n):\n",
    "        if y_no_offset[i] < max_sur_2:\n",
    "            index1 = i\n",
    "            break\n",
    "    x0_0, x1_0, y0_0, y1_0 = x[index0], x[index0+1], y_no_offset[index0], y_no_offset[index0+1]\n",
    "    x0_1, x1_1, y0_1, y1_1 = x[index1-1], x[index1], y_no_offset[index1-1], y_no_offset[index1]\n",
    "    x0_inter = x0_0 + (x1_0-x0_0)*(max_sur_2-y0_0)/(y1_0-y0_0)\n",
    "    x1_inter = x0_1 + (x1_1-x0_1)*(max_sur_2-y0_1)/(y1_1-y0_1)\n",
    "    return x1_inter - x0_inter\n",
    "FWHM_python(x,y)"
   ]
  },
  {
   "cell_type": "code",
   "execution_count": 56,
   "metadata": {
    "slideshow": {
     "slide_type": "subslide"
    }
   },
   "outputs": [
    {
     "name": "stdout",
     "output_type": "stream",
     "text": [
      "3.97 ms ± 85.2 µs per loop (mean ± std. dev. of 7 runs, 100 loops each)\n"
     ]
    }
   ],
   "source": [
    "time_pure_python = %timeit -o FWHM_python(x,y)"
   ]
  },
  {
   "cell_type": "code",
   "execution_count": 57,
   "metadata": {
    "slideshow": {
     "slide_type": "fragment"
    }
   },
   "outputs": [
    {
     "name": "stdout",
     "output_type": "stream",
     "text": [
      "Bad algorithm fast implementation is x3.55 time faster than pure python !\n"
     ]
    }
   ],
   "source": [
    "print(\"Bad algorithm fast implementation is x{0:.3g} time faster than pure python !\".format(time_pure_python.average/time_fsolve.average))"
   ]
  },
  {
   "cell_type": "code",
   "execution_count": 58,
   "metadata": {
    "slideshow": {
     "slide_type": "fragment"
    }
   },
   "outputs": [
    {
     "name": "stdout",
     "output_type": "stream",
     "text": [
      "Scipy special function is x25.3 time faster than pure python !\n"
     ]
    }
   ],
   "source": [
    "print(\"Scipy special function is x{0:.3g} time faster than pure python !\".format(time_pure_python.average/time_cython.average))"
   ]
  },
  {
   "cell_type": "markdown",
   "metadata": {
    "slideshow": {
     "slide_type": "subslide"
    }
   },
   "source": [
    "<h1 style=\"color:#CCE6FF;\">Recommendation</h1>"
   ]
  },
  {
   "cell_type": "markdown",
   "metadata": {
    "slideshow": {
     "slide_type": "-"
    }
   },
   "source": [
    "<div class=\"alert alert-block alert-info\">\n",
    "\n",
    "Optimize your algorithm before optimizing your code.\n",
    "\n",
    "</div>"
   ]
  },
  {
   "cell_type": "code",
   "execution_count": 59,
   "metadata": {
    "scrolled": false,
    "slideshow": {
     "slide_type": "slide"
    }
   },
   "outputs": [
    {
     "name": "stdout",
     "output_type": "stream",
     "text": [
      "Timer unit: 1e-07 s\n",
      "\n",
      "Total time: 0.0098 s\n",
      "File: <ipython-input-55-c61a6e9c753c>\n",
      "Function: FWHM_python at line 1\n",
      "\n",
      "Line #      Hits         Time  Per Hit   % Time  Line Contents\n",
      "==============================================================\n",
      "     1                                           def FWHM_python(x,y):\n",
      "     2         1         24.0     24.0      0.0      n = len(y)\n",
      "     3         1       7416.0   7416.0      7.6      min_y = min(y)\n",
      "     4         1      52283.0  52283.0     53.4      y_no_offset = [val - min_y for val in y]\n",
      "     5         1       9536.0   9536.0      9.7      max_y = max(y_no_offset)\n",
      "     6         1         87.0     87.0      0.1      max_sur_2 = max_y/2\n",
      "     7         1      10861.0  10861.0     11.1      index_max_y = y.index(max(y))\n",
      "     8       435       4053.0      9.3      4.1      for i in range(index_max_y,0,-1):\n",
      "     9       435       4585.0     10.5      4.7          if y_no_offset[i] < max_sur_2:\n",
      "    10         1         13.0     13.0      0.0              index0 = i\n",
      "    11         1         31.0     31.0      0.0              break\n",
      "    12       435       4170.0      9.6      4.3      for i in range(index_max_y,n):\n",
      "    13       435       4792.0     11.0      4.9          if y_no_offset[i] < max_sur_2:\n",
      "    14         1          8.0      8.0      0.0              index1 = i\n",
      "    15         1         20.0     20.0      0.0              break\n",
      "    16         1         33.0     33.0      0.0      x0_0, x1_0, y0_0, y1_0 = x[index0], x[index0+1], y_no_offset[index0], y_no_offset[index0+1]\n",
      "    17         1         25.0     25.0      0.0      x0_1, x1_1, y0_1, y1_1 = x[index1-1], x[index1], y_no_offset[index1-1], y_no_offset[index1]\n",
      "    18         1         36.0     36.0      0.0      x0_inter = x0_0 + (x1_0-x0_0)*(max_sur_2-y0_0)/(y1_0-y0_0)\n",
      "    19         1         15.0     15.0      0.0      x1_inter = x0_1 + (x1_1-x0_1)*(max_sur_2-y0_1)/(y1_1-y0_1)\n",
      "    20         1         12.0     12.0      0.0      return x1_inter - x0_inter\n",
      "\n"
     ]
    }
   ],
   "source": [
    "from line_profiler import LineProfiler\n",
    "\n",
    "lp = LineProfiler()\n",
    "lp_wrapper = lp(FWHM_python)\n",
    "lp_wrapper(x,y)\n",
    "lp.print_stats()"
   ]
  },
  {
   "cell_type": "markdown",
   "metadata": {
    "slideshow": {
     "slide_type": "slide"
    }
   },
   "source": [
    "## Let's speed up the code using numpy"
   ]
  },
  {
   "cell_type": "code",
   "execution_count": 60,
   "metadata": {
    "slideshow": {
     "slide_type": "-"
    }
   },
   "outputs": [
    {
     "data": {
      "text/plain": [
       "866.6896698623641"
      ]
     },
     "execution_count": 60,
     "metadata": {},
     "output_type": "execute_result"
    }
   ],
   "source": [
    "x = np.array(x)\n",
    "y = np.array(y)\n",
    "def FWHM_numpy_1(x,y):\n",
    "    n = len(y)\n",
    "    min_y = min(y)\n",
    "    y_no_offset = y-min_y\n",
    "    max_y = max(y_no_offset)\n",
    "    max_sur_2 = max_y/2\n",
    "    index_max_y = y.argmax()\n",
    "    for i in range(index_max_y,0,-1):\n",
    "        if y_no_offset[i] < max_sur_2:\n",
    "            index0 = i\n",
    "            break\n",
    "    for i in range(index_max_y,n):\n",
    "        if y_no_offset[i] < max_sur_2:\n",
    "            index1 = i\n",
    "            break\n",
    "    x0_0, x1_0, y0_0, y1_0 = x[index0-1], x[index0], y_no_offset[index0-1], y_no_offset[index0]\n",
    "    x0_1, x1_1, y0_1, y1_1 = x[index1], x[index1+1], y_no_offset[index1], y_no_offset[index1+1]\n",
    "    x0_inter = x0_0 + (x1_0-x0_0)*(max_sur_2-y0_0)/(y1_0-y0_0)\n",
    "    x1_inter = x0_1 + (x1_1-x0_1)*(max_sur_2-y0_1)/(y1_1-y0_1)\n",
    "    return x1_inter - x0_inter\n",
    "FWHM_numpy_1(x,y)"
   ]
  },
  {
   "cell_type": "code",
   "execution_count": 61,
   "metadata": {
    "slideshow": {
     "slide_type": "slide"
    }
   },
   "outputs": [
    {
     "name": "stdout",
     "output_type": "stream",
     "text": [
      "7.55 ms ± 117 µs per loop (mean ± std. dev. of 7 runs, 100 loops each)\n"
     ]
    }
   ],
   "source": [
    "time_numpy_1 = %timeit -o FWHM_numpy_1(x,y)"
   ]
  },
  {
   "cell_type": "code",
   "execution_count": 62,
   "metadata": {
    "slideshow": {
     "slide_type": "fragment"
    }
   },
   "outputs": [
    {
     "name": "stdout",
     "output_type": "stream",
     "text": [
      "Python time: 0.00397s\n"
     ]
    }
   ],
   "source": [
    "print(\"Python time: {0:.3g}s\".format(time_pure_python.average))"
   ]
  },
  {
   "cell_type": "code",
   "execution_count": 63,
   "metadata": {
    "slideshow": {
     "slide_type": "fragment"
    }
   },
   "outputs": [
    {
     "name": "stdout",
     "output_type": "stream",
     "text": [
      "Numpy1 is x1.9 time slower than pure python !\n"
     ]
    }
   ],
   "source": [
    "print(\"Numpy1 is x{0:.3g} time slower than pure python !\".format(time_numpy_1.average/time_pure_python.average))"
   ]
  },
  {
   "cell_type": "markdown",
   "metadata": {
    "slideshow": {
     "slide_type": "subslide"
    }
   },
   "source": [
    "<div class=\"alert alert-block alert-danger\">\n",
    "\n",
    "__Mixing Python function an Numpy array can be slower than pure python... :s__\n",
    "\n",
    "</div>\n",
    "\n"
   ]
  },
  {
   "cell_type": "code",
   "execution_count": 64,
   "metadata": {
    "slideshow": {
     "slide_type": "subslide"
    }
   },
   "outputs": [
    {
     "name": "stdout",
     "output_type": "stream",
     "text": [
      "Timer unit: 1e-07 s\n",
      "\n",
      "Total time: 0.0093919 s\n",
      "File: <ipython-input-60-2431f45c9cc2>\n",
      "Function: FWHM_numpy_1 at line 3\n",
      "\n",
      "Line #      Hits         Time  Per Hit   % Time  Line Contents\n",
      "==============================================================\n",
      "     3                                           def FWHM_numpy_1(x,y):\n",
      "     4         1         33.0     33.0      0.0      n = len(y)\n",
      "     5         1      40961.0  40961.0     43.6      min_y = min(y)\n",
      "     6         1        751.0    751.0      0.8      y_no_offset = y-min_y\n",
      "     7         1      39222.0  39222.0     41.8      max_y = max(y_no_offset)\n",
      "     8         1         72.0     72.0      0.1      max_sur_2 = max_y/2\n",
      "     9         1       2699.0   2699.0      2.9      index_max_y = y.argmax()\n",
      "    10       435       2111.0      4.9      2.2      for i in range(index_max_y,0,-1):\n",
      "    11       435       3021.0      6.9      3.2          if y_no_offset[i] < max_sur_2:\n",
      "    12         1          4.0      4.0      0.0              index0 = i\n",
      "    13         1          8.0      8.0      0.0              break\n",
      "    14       435       2002.0      4.6      2.1      for i in range(index_max_y,n):\n",
      "    15       435       2928.0      6.7      3.1          if y_no_offset[i] < max_sur_2:\n",
      "    16         1          5.0      5.0      0.0              index1 = i\n",
      "    17         1          6.0      6.0      0.0              break\n",
      "    18         1         20.0     20.0      0.0      x0_0, x1_0, y0_0, y1_0 = x[index0-1], x[index0], y_no_offset[index0-1], y_no_offset[index0]\n",
      "    19         1         13.0     13.0      0.0      x0_1, x1_1, y0_1, y1_1 = x[index1], x[index1+1], y_no_offset[index1], y_no_offset[index1+1]\n",
      "    20         1         39.0     39.0      0.0      x0_inter = x0_0 + (x1_0-x0_0)*(max_sur_2-y0_0)/(y1_0-y0_0)\n",
      "    21         1         14.0     14.0      0.0      x1_inter = x0_1 + (x1_1-x0_1)*(max_sur_2-y0_1)/(y1_1-y0_1)\n",
      "    22         1         10.0     10.0      0.0      return x1_inter - x0_inter\n",
      "\n"
     ]
    }
   ],
   "source": [
    "from line_profiler import LineProfiler\n",
    "\n",
    "lp = LineProfiler()\n",
    "lp_wrapper = lp(FWHM_numpy_1)\n",
    "lp_wrapper(x,y)\n",
    "lp.print_stats()"
   ]
  },
  {
   "cell_type": "markdown",
   "metadata": {
    "slideshow": {
     "slide_type": "slide"
    }
   },
   "source": [
    "## Let's realy speed up the code using numpy"
   ]
  },
  {
   "cell_type": "code",
   "execution_count": 65,
   "metadata": {
    "slideshow": {
     "slide_type": "slide"
    }
   },
   "outputs": [
    {
     "data": {
      "text/plain": [
       "866.6896698623641"
      ]
     },
     "execution_count": 65,
     "metadata": {},
     "output_type": "execute_result"
    }
   ],
   "source": [
    "def FWHM_numpy_2(x,y):\n",
    "    n = len(y)\n",
    "    y_no_offset = y - np.min(y)\n",
    "    max_y = np.max(y_no_offset)\n",
    "    max_sur_2 = max_y/2\n",
    "    index_max_y = y.argmax()\n",
    "    for i in range(index_max_y,0,-1):\n",
    "        if y_no_offset[i] < max_sur_2:\n",
    "            index0 = i\n",
    "            break\n",
    "    for i in range(index_max_y,n):\n",
    "        if y_no_offset[i] < max_sur_2:\n",
    "            index1 = i\n",
    "            break\n",
    "    #return index0, index1\n",
    "    x0_0, x1_0, y0_0, y1_0 = x[index0-1], x[index0], y_no_offset[index0-1], y_no_offset[index0]\n",
    "    x0_1, x1_1, y0_1, y1_1 = x[index1], x[index1+1], y_no_offset[index1], y_no_offset[index1+1]\n",
    "    x0_inter = x0_0 + (x1_0-x0_0)*(max_sur_2-y0_0)/(y1_0-y0_0)\n",
    "    x1_inter = x0_1 + (x1_1-x0_1)*(max_sur_2-y0_1)/(y1_1-y0_1)\n",
    "    return x1_inter - x0_inter\n",
    "FWHM_numpy_2(x,y)"
   ]
  },
  {
   "cell_type": "code",
   "execution_count": 66,
   "metadata": {
    "slideshow": {
     "slide_type": "fragment"
    }
   },
   "outputs": [
    {
     "name": "stdout",
     "output_type": "stream",
     "text": [
      "272 µs ± 4.79 µs per loop (mean ± std. dev. of 7 runs, 1000 loops each)\n"
     ]
    }
   ],
   "source": [
    "time_numpy_2 = %timeit -o FWHM_numpy_2(x,y)"
   ]
  },
  {
   "cell_type": "code",
   "execution_count": 67,
   "metadata": {
    "slideshow": {
     "slide_type": "subslide"
    }
   },
   "outputs": [
    {
     "name": "stdout",
     "output_type": "stream",
     "text": [
      "Python time: 0.00397s\n"
     ]
    }
   ],
   "source": [
    "print(\"Python time: {0:.3g}s\".format(time_pure_python.average))"
   ]
  },
  {
   "cell_type": "code",
   "execution_count": 68,
   "metadata": {
    "slideshow": {
     "slide_type": "fragment"
    }
   },
   "outputs": [
    {
     "name": "stdout",
     "output_type": "stream",
     "text": [
      "Numpy2 is x14.6 time faster than pure python !\n"
     ]
    }
   ],
   "source": [
    "print(\"Numpy2 is x{0:.3g} time faster than pure python !\".format(time_pure_python.average/time_numpy_2.average))"
   ]
  },
  {
   "cell_type": "code",
   "execution_count": 69,
   "metadata": {
    "scrolled": true,
    "slideshow": {
     "slide_type": "subslide"
    }
   },
   "outputs": [
    {
     "name": "stdout",
     "output_type": "stream",
     "text": [
      "Timer unit: 1e-07 s\n",
      "\n",
      "Total time: 0.0021884 s\n",
      "File: <ipython-input-65-ae809be1a4b7>\n",
      "Function: FWHM_numpy_2 at line 1\n",
      "\n",
      "Line #      Hits         Time  Per Hit   % Time  Line Contents\n",
      "==============================================================\n",
      "     1                                           def FWHM_numpy_2(x,y):\n",
      "     2         1         28.0     28.0      0.1      n = len(y)\n",
      "     3         1       6734.0   6734.0     30.8      y_no_offset = y - np.min(y)\n",
      "     4         1        574.0    574.0      2.6      max_y = np.max(y_no_offset)\n",
      "     5         1         38.0     38.0      0.2      max_sur_2 = max_y/2\n",
      "     6         1        863.0    863.0      3.9      index_max_y = y.argmax()\n",
      "     7       435       2311.0      5.3     10.6      for i in range(index_max_y,0,-1):\n",
      "     8       435       3454.0      7.9     15.8          if y_no_offset[i] < max_sur_2:\n",
      "     9         1          5.0      5.0      0.0              index0 = i\n",
      "    10         1          8.0      8.0      0.0              break\n",
      "    11       435       2924.0      6.7     13.4      for i in range(index_max_y,n):\n",
      "    12       435       4767.0     11.0     21.8          if y_no_offset[i] < max_sur_2:\n",
      "    13         1          8.0      8.0      0.0              index1 = i\n",
      "    14         1         11.0     11.0      0.1              break\n",
      "    15                                               #return index0, index1\n",
      "    16         1         32.0     32.0      0.1      x0_0, x1_0, y0_0, y1_0 = x[index0-1], x[index0], y_no_offset[index0-1], y_no_offset[index0]\n",
      "    17         1         21.0     21.0      0.1      x0_1, x1_1, y0_1, y1_1 = x[index1], x[index1+1], y_no_offset[index1], y_no_offset[index1+1]\n",
      "    18         1         59.0     59.0      0.3      x0_inter = x0_0 + (x1_0-x0_0)*(max_sur_2-y0_0)/(y1_0-y0_0)\n",
      "    19         1         29.0     29.0      0.1      x1_inter = x0_1 + (x1_1-x0_1)*(max_sur_2-y0_1)/(y1_1-y0_1)\n",
      "    20         1         18.0     18.0      0.1      return x1_inter - x0_inter\n",
      "\n"
     ]
    }
   ],
   "source": [
    "from line_profiler import LineProfiler\n",
    "\n",
    "lp = LineProfiler()\n",
    "lp_wrapper = lp(FWHM_numpy_2)\n",
    "lp_wrapper(x,y)\n",
    "lp.print_stats()"
   ]
  },
  {
   "cell_type": "markdown",
   "metadata": {
    "slideshow": {
     "slide_type": "slide"
    }
   },
   "source": [
    "# Speed up the loops using Numba"
   ]
  },
  {
   "cell_type": "code",
   "execution_count": 70,
   "metadata": {
    "slideshow": {
     "slide_type": "-"
    }
   },
   "outputs": [],
   "source": [
    "from numba import jit\n",
    "\n",
    "@jit(nopython=True)\n",
    "def FWHM_index_python(x,y):\n",
    "    n = len(y)\n",
    "    y_no_offset = y - np.min(y)\n",
    "    max_y = np.max(y_no_offset)\n",
    "    max_sur_2 = max_y/2\n",
    "    index_max_y = y.argmax()\n",
    "    for i in range(index_max_y,0,-1):\n",
    "        if y_no_offset[i] < max_sur_2:\n",
    "            index0 = i\n",
    "            break\n",
    "    for i in range(index_max_y,n):\n",
    "        if y_no_offset[i] < max_sur_2:\n",
    "            index1 = i\n",
    "            break\n",
    "    #return index0, index1\n",
    "    x0_0, x1_0, y0_0, y1_0 = x[index0-1], x[index0], y_no_offset[index0-1], y_no_offset[index0]\n",
    "    x0_1, x1_1, y0_1, y1_1 = x[index1], x[index1+1], y_no_offset[index1], y_no_offset[index1+1]\n",
    "    x0_inter = x0_0 + (x1_0-x0_0)*(max_sur_2-y0_0)/(y1_0-y0_0)\n",
    "    x1_inter = x0_1 + (x1_1-x0_1)*(max_sur_2-y0_1)/(y1_1-y0_1)\n",
    "    return x1_inter - x0_inter"
   ]
  },
  {
   "cell_type": "code",
   "execution_count": 71,
   "metadata": {
    "slideshow": {
     "slide_type": "subslide"
    }
   },
   "outputs": [
    {
     "name": "stdout",
     "output_type": "stream",
     "text": [
      "151 µs ± 10.1 µs per loop (mean ± std. dev. of 7 runs, 1 loop each)\n"
     ]
    }
   ],
   "source": [
    "time_numba = %timeit -o FWHM_index_python(x,y)"
   ]
  },
  {
   "cell_type": "code",
   "execution_count": 72,
   "metadata": {
    "slideshow": {
     "slide_type": "fragment"
    }
   },
   "outputs": [
    {
     "name": "stdout",
     "output_type": "stream",
     "text": [
      "Numba + Numpy is x26.3 time faster than pure python !\n"
     ]
    }
   ],
   "source": [
    "print(\"Numba + Numpy is x{0:.3g} time faster than pure python !\".format(time_pure_python.average/time_numba.average))"
   ]
  },
  {
   "cell_type": "markdown",
   "metadata": {
    "slideshow": {
     "slide_type": "slide"
    }
   },
   "source": [
    "# Remove the loops using Numpy"
   ]
  },
  {
   "cell_type": "code",
   "execution_count": 73,
   "metadata": {
    "slideshow": {
     "slide_type": "-"
    }
   },
   "outputs": [
    {
     "data": {
      "text/plain": [
       "866.6926925185362"
      ]
     },
     "execution_count": 73,
     "metadata": {},
     "output_type": "execute_result"
    }
   ],
   "source": [
    "def FWHM_numpy_final(x,y):\n",
    "    y_no_offset = y - y.min()\n",
    "    max_sur_2 = y_no_offset.max()/2\n",
    "    index = np.argwhere(y_no_offset > max_sur_2)\n",
    "    index0,index1 = index[0][0], index[-1][0]\n",
    "    #return index0, index1\n",
    "    x0_0, x1_0, y0_0, y1_0 = x[index0-1], x[index0], y_no_offset[index0-1], y_no_offset[index0]\n",
    "    x0_1, x1_1, y0_1, y1_1 = x[index1], x[index1+1], y_no_offset[index1], y_no_offset[index1+1]\n",
    "    x0_inter = x0_0 + (x1_0-x0_0)*(max_sur_2-y0_0)/(y1_0-y0_0)\n",
    "    x1_inter = x0_1 + (x1_1-x0_1)*(max_sur_2-y0_1)/(y1_1-y0_1)\n",
    "    return x1_inter - x0_inter\n",
    "\n",
    "FWHM_numpy_final(x,y)"
   ]
  },
  {
   "cell_type": "code",
   "execution_count": 74,
   "metadata": {
    "slideshow": {
     "slide_type": "subslide"
    }
   },
   "outputs": [
    {
     "name": "stdout",
     "output_type": "stream",
     "text": [
      "97.5 µs ± 4.57 µs per loop (mean ± std. dev. of 7 runs, 10000 loops each)\n"
     ]
    }
   ],
   "source": [
    "time_numpy_opti = %timeit -o FWHM_numpy_final(x,y)"
   ]
  },
  {
   "cell_type": "code",
   "execution_count": 75,
   "metadata": {
    "slideshow": {
     "slide_type": "fragment"
    }
   },
   "outputs": [
    {
     "name": "stdout",
     "output_type": "stream",
     "text": [
      "Numpy optimized is x40.7 time faster than pure python !\n"
     ]
    }
   ],
   "source": [
    "print(\"Numpy optimized is x{0:.3g} time faster than pure python !\".format(time_pure_python.average/time_numpy_opti.average))"
   ]
  },
  {
   "cell_type": "code",
   "execution_count": 76,
   "metadata": {
    "slideshow": {
     "slide_type": "fragment"
    }
   },
   "outputs": [
    {
     "name": "stdout",
     "output_type": "stream",
     "text": [
      "Scipy special function is x25.3 time faster than pure python !\n"
     ]
    }
   ],
   "source": [
    "print(\"Scipy special function is x{0:.3g} time faster than pure python !\".format(time_pure_python.average/time_cython.average))"
   ]
  },
  {
   "cell_type": "markdown",
   "metadata": {
    "slideshow": {
     "slide_type": "slide"
    }
   },
   "source": [
    "<h1 style=\"color:#CCE6FF;\">Best practice !</h1>"
   ]
  },
  {
   "cell_type": "markdown",
   "metadata": {
    "slideshow": {
     "slide_type": "fragment"
    }
   },
   "source": [
    "<h3 style=\"color:#CCE6FF;\">1) Find an existing implementation !</h3>"
   ]
  },
  {
   "cell_type": "markdown",
   "metadata": {
    "slideshow": {
     "slide_type": "fragment"
    }
   },
   "source": [
    "<h3 style=\"color:#CCE6FF;\">2) Line profiling</h3>"
   ]
  },
  {
   "cell_type": "markdown",
   "metadata": {
    "slideshow": {
     "slide_type": "fragment"
    }
   },
   "source": [
    "<h3 style=\"color:#CCE6FF;\">3) Optimize your algorithm before optimizing your code.</h3>"
   ]
  },
  {
   "cell_type": "markdown",
   "metadata": {
    "slideshow": {
     "slide_type": "fragment"
    }
   },
   "source": [
    "<h3 style=\"color:#CCE6FF;\">4) Numpy vectorisation</h3>"
   ]
  },
  {
   "cell_type": "markdown",
   "metadata": {
    "slideshow": {
     "slide_type": "fragment"
    }
   },
   "source": [
    "<h3 style=\"color:#CCE6FF;\">5) Speed up the loops using Numba</h3>"
   ]
  },
  {
   "cell_type": "markdown",
   "metadata": {
    "slideshow": {
     "slide_type": "subslide"
    }
   },
   "source": [
    "# Thank you for your attention"
   ]
  },
  {
   "cell_type": "markdown",
   "metadata": {
    "slideshow": {
     "slide_type": "skip"
    }
   },
   "source": [
    "<h1 style=\"color:blue;\">Titre de niveau 1</h1>\n",
    "<h2>Titre de niveau 2</h2>\n",
    "<h3>Titre de niveau 3</h3>"
   ]
  }
 ],
 "metadata": {
  "celltoolbar": "Diaporama",
  "kernelspec": {
   "display_name": "Python 3",
   "language": "python",
   "name": "python3"
  },
  "language_info": {
   "codemirror_mode": {
    "name": "ipython",
    "version": 3
   },
   "file_extension": ".py",
   "mimetype": "text/x-python",
   "name": "python",
   "nbconvert_exporter": "python",
   "pygments_lexer": "ipython3",
   "version": "3.7.6"
  },
  "rise": {
   "enable_chalkboard": true,
   "footer": "<h2>V.FREYSZ</h2>",
   "header": "<h2>Fast Numerical computation in python</h2>",
   "scroll": true,
   "theme": "night"
  }
 },
 "nbformat": 4,
 "nbformat_minor": 2
}
